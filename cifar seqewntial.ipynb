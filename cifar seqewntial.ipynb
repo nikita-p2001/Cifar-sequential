{
 "cells": [
  {
   "cell_type": "code",
   "execution_count": 1,
   "id": "2120fbc5",
   "metadata": {},
   "outputs": [],
   "source": [
    "import tensorflow as tf\n",
    "import pandas as pd\n",
    "import numpy as np\n",
    "from tensorflow.keras import Sequential\n",
    "from tensorflow.python.keras import regularizers\n",
    "from tensorflow.keras.layers import Dense,Dropout,Activation,MaxPooling2D,Flatten,Conv2D\n",
    "from tensorflow import keras"
   ]
  },
  {
   "cell_type": "code",
   "execution_count": 2,
   "id": "e4592950",
   "metadata": {},
   "outputs": [],
   "source": [
    "from tensorflow.keras.datasets import cifar10"
   ]
  },
  {
   "cell_type": "code",
   "execution_count": 3,
   "id": "52896dac",
   "metadata": {},
   "outputs": [
    {
     "data": {
      "text/plain": [
       "((50000, 32, 32, 3), (50000, 1), (10000, 32, 32, 3), (10000, 1))"
      ]
     },
     "execution_count": 3,
     "metadata": {},
     "output_type": "execute_result"
    }
   ],
   "source": [
    "(X_train, y_train), (X_test, y_test) = cifar10.load_data()\n",
    "X_train.shape,y_train.shape,X_test.shape,y_test.shape"
   ]
  },
  {
   "cell_type": "code",
   "execution_count": 4,
   "id": "49417bb4",
   "metadata": {},
   "outputs": [
    {
     "name": "stdout",
     "output_type": "stream",
     "text": [
      "[0 1 2 3 4 5 6 7 8 9]\n",
      "[0 1 2 3 4 5 6 7 8 9]\n"
     ]
    }
   ],
   "source": [
    "print(np.unique(y_train))\n",
    "print(np.unique(y_test))"
   ]
  },
  {
   "cell_type": "code",
   "execution_count": 5,
   "id": "1119340b",
   "metadata": {},
   "outputs": [
    {
     "data": {
      "text/plain": [
       "(50000, 3072)"
      ]
     },
     "execution_count": 5,
     "metadata": {},
     "output_type": "execute_result"
    }
   ],
   "source": [
    "X_train = X_train.reshape(50000, 32 * 32 * 3)\n",
    "X_test = X_test.reshape(10000, 32 * 32 * 3)\n",
    "X_train.shape"
   ]
  },
  {
   "cell_type": "code",
   "execution_count": 6,
   "id": "d085721a",
   "metadata": {},
   "outputs": [],
   "source": [
    "X_train = X_train/255.0\n",
    "X_test = X_test/255.0"
   ]
  },
  {
   "cell_type": "code",
   "execution_count": 7,
   "id": "26df0dfd",
   "metadata": {},
   "outputs": [],
   "source": [
    "num_classes = 10\n",
    "y_train = keras.utils.to_categorical(y_train, num_classes)\n",
    "y_test = keras.utils.to_categorical(y_test, num_classes)"
   ]
  },
  {
   "cell_type": "code",
   "execution_count": 8,
   "id": "ca50d742",
   "metadata": {},
   "outputs": [],
   "source": [
    "model = Sequential() \n",
    "model.add(Dense(1024,input_shape = (3072,),activation=\"relu\"))\n",
    "model.add(Dense(512,kernel_regularizer=regularizers.l2(0.01),activation= \"relu\"))\n",
    "model.add(Dense(256,activation= \"relu\"))\n",
    "model.add(Dropout(0.5))\n",
    "model.add(Dense(units = 128,activation= \"relu\"))\n",
    "model.add(Dropout(0.5))\n",
    "model.add(Dense(units = 64,activation= \"relu\"))\n",
    "model.add(Dense(units = 32,activation= \"relu\"))\n",
    "model.add(Dense(units = 16,activation= \"relu\"))\n",
    "model.add(Dense(units = 10,activation= \"softmax\"))\n"
   ]
  },
  {
   "cell_type": "code",
   "execution_count": 9,
   "id": "43ebd77b",
   "metadata": {},
   "outputs": [
    {
     "name": "stdout",
     "output_type": "stream",
     "text": [
      "Model: \"sequential\"\n",
      "_________________________________________________________________\n",
      " Layer (type)                Output Shape              Param #   \n",
      "=================================================================\n",
      " dense (Dense)               (None, 1024)              3146752   \n",
      "                                                                 \n",
      " dense_1 (Dense)             (None, 512)               524800    \n",
      "                                                                 \n",
      " dense_2 (Dense)             (None, 256)               131328    \n",
      "                                                                 \n",
      " dropout (Dropout)           (None, 256)               0         \n",
      "                                                                 \n",
      " dense_3 (Dense)             (None, 128)               32896     \n",
      "                                                                 \n",
      " dropout_1 (Dropout)         (None, 128)               0         \n",
      "                                                                 \n",
      " dense_4 (Dense)             (None, 64)                8256      \n",
      "                                                                 \n",
      " dense_5 (Dense)             (None, 32)                2080      \n",
      "                                                                 \n",
      " dense_6 (Dense)             (None, 16)                528       \n",
      "                                                                 \n",
      " dense_7 (Dense)             (None, 10)                170       \n",
      "                                                                 \n",
      "=================================================================\n",
      "Total params: 3,846,810\n",
      "Trainable params: 3,846,810\n",
      "Non-trainable params: 0\n",
      "_________________________________________________________________\n"
     ]
    }
   ],
   "source": [
    "model.summary()"
   ]
  },
  {
   "cell_type": "code",
   "execution_count": 10,
   "id": "f86be858",
   "metadata": {},
   "outputs": [
    {
     "name": "stderr",
     "output_type": "stream",
     "text": [
      "C:\\Users\\nikit\\anaconda3\\lib\\site-packages\\keras\\optimizers\\optimizer_v2\\gradient_descent.py:108: UserWarning: The `lr` argument is deprecated, use `learning_rate` instead.\n",
      "  super(SGD, self).__init__(name, **kwargs)\n"
     ]
    }
   ],
   "source": [
    "from keras.optimizers import SGD\n",
    "opt = SGD(lr=0.001, momentum=0.9)\n",
    "model.compile(optimizer=opt, loss='categorical_crossentropy', metrics=['accuracy'])"
   ]
  },
  {
   "cell_type": "code",
   "execution_count": 12,
   "id": "be4facd4",
   "metadata": {},
   "outputs": [
    {
     "name": "stdout",
     "output_type": "stream",
     "text": [
      "Epoch 1/20\n",
      "313/313 [==============================] - 14s 43ms/step - loss: 7.3612 - accuracy: 0.1882 - val_loss: 6.9734 - val_accuracy: 0.2447\n",
      "Epoch 2/20\n",
      "313/313 [==============================] - 14s 45ms/step - loss: 6.6867 - accuracy: 0.2227 - val_loss: 6.3461 - val_accuracy: 0.2691\n",
      "Epoch 3/20\n",
      "313/313 [==============================] - 13s 41ms/step - loss: 6.0977 - accuracy: 0.2490 - val_loss: 5.7825 - val_accuracy: 0.2847\n",
      "Epoch 4/20\n",
      "313/313 [==============================] - 13s 42ms/step - loss: 5.5723 - accuracy: 0.2686 - val_loss: 5.2862 - val_accuracy: 0.2932\n",
      "Epoch 5/20\n",
      "313/313 [==============================] - 13s 43ms/step - loss: 5.1101 - accuracy: 0.2819 - val_loss: 4.8575 - val_accuracy: 0.3091\n",
      "Epoch 6/20\n",
      "313/313 [==============================] - 14s 44ms/step - loss: 4.7063 - accuracy: 0.2919 - val_loss: 4.4783 - val_accuracy: 0.3164\n",
      "Epoch 7/20\n",
      "313/313 [==============================] - 13s 40ms/step - loss: 4.3497 - accuracy: 0.3033 - val_loss: 4.1367 - val_accuracy: 0.3322\n",
      "Epoch 8/20\n",
      "313/313 [==============================] - 13s 43ms/step - loss: 4.0338 - accuracy: 0.3132 - val_loss: 3.8394 - val_accuracy: 0.3437\n",
      "Epoch 9/20\n",
      "313/313 [==============================] - 13s 40ms/step - loss: 3.7521 - accuracy: 0.3240 - val_loss: 3.5768 - val_accuracy: 0.3511\n",
      "Epoch 10/20\n",
      "313/313 [==============================] - 15s 48ms/step - loss: 3.5045 - accuracy: 0.3316 - val_loss: 3.3610 - val_accuracy: 0.3549\n",
      "Epoch 11/20\n",
      "313/313 [==============================] - 14s 43ms/step - loss: 3.2803 - accuracy: 0.3460 - val_loss: 3.1353 - val_accuracy: 0.3719\n",
      "Epoch 12/20\n",
      "313/313 [==============================] - 14s 45ms/step - loss: 3.0805 - accuracy: 0.3560 - val_loss: 2.9449 - val_accuracy: 0.3783\n",
      "Epoch 13/20\n",
      "313/313 [==============================] - 13s 41ms/step - loss: 2.9020 - accuracy: 0.3674 - val_loss: 2.7724 - val_accuracy: 0.3934\n",
      "Epoch 14/20\n",
      "313/313 [==============================] - 13s 42ms/step - loss: 2.7387 - accuracy: 0.3787 - val_loss: 2.6189 - val_accuracy: 0.4065\n",
      "Epoch 15/20\n",
      "313/313 [==============================] - 12s 40ms/step - loss: 2.5937 - accuracy: 0.3862 - val_loss: 2.5104 - val_accuracy: 0.4024\n",
      "Epoch 16/20\n",
      "313/313 [==============================] - 13s 41ms/step - loss: 2.4618 - accuracy: 0.3978 - val_loss: 2.3869 - val_accuracy: 0.4121\n",
      "Epoch 17/20\n",
      "313/313 [==============================] - 9s 29ms/step - loss: 2.3509 - accuracy: 0.4073 - val_loss: 2.2778 - val_accuracy: 0.4248\n",
      "Epoch 18/20\n",
      "313/313 [==============================] - 11s 36ms/step - loss: 2.2459 - accuracy: 0.4155 - val_loss: 2.2297 - val_accuracy: 0.4174\n",
      "Epoch 19/20\n",
      "313/313 [==============================] - 11s 35ms/step - loss: 2.1545 - accuracy: 0.4243 - val_loss: 2.1044 - val_accuracy: 0.4331\n",
      "Epoch 20/20\n",
      "313/313 [==============================] - 11s 36ms/step - loss: 2.0689 - accuracy: 0.4295 - val_loss: 2.0304 - val_accuracy: 0.4387\n"
     ]
    }
   ],
   "source": [
    "history = model.fit(X_train, y_train, batch_size=128, epochs=20, validation_split=0.2)\n",
    "#take epochs 200"
   ]
  },
  {
   "cell_type": "code",
   "execution_count": 13,
   "id": "47c6e3e6",
   "metadata": {},
   "outputs": [
    {
     "name": "stdout",
     "output_type": "stream",
     "text": [
      "Training Accuracy\n",
      "1563/1563 [==============================] - 10s 6ms/step - loss: 1.9502 - accuracy: 0.4619\n",
      "[1.9501700401306152, 0.46191999316215515]\n",
      "Test accuracy\n",
      "313/313 [==============================] - 2s 8ms/step - loss: 2.0020 - accuracy: 0.4516\n",
      "[2.0019705295562744, 0.45159998536109924]\n"
     ]
    }
   ],
   "source": [
    "print(\"Training Accuracy\")\n",
    "print(model.evaluate(X_train,y_train))\n",
    "print(\"Test accuracy\")\n",
    "print(model.evaluate(X_test,y_test))"
   ]
  },
  {
   "cell_type": "markdown",
   "id": "641edd2d",
   "metadata": {},
   "source": [
    "# Plot Confusion Matrix"
   ]
  },
  {
   "cell_type": "code",
   "execution_count": 14,
   "id": "34267b1b",
   "metadata": {},
   "outputs": [
    {
     "name": "stdout",
     "output_type": "stream",
     "text": [
      "313/313 [==============================] - 2s 5ms/step\n"
     ]
    }
   ],
   "source": [
    "Y_pred = model.predict(X_test)\n",
    "Y_pred_classes = np.argmax(Y_pred,axis = 1) \n",
    "Y_true = np.argmax(y_test,axis = 1)\n",
    "confusion_mtx = tf.math.confusion_matrix(Y_true, Y_pred_classes) "
   ]
  },
  {
   "cell_type": "code",
   "execution_count": 15,
   "id": "c98740db",
   "metadata": {},
   "outputs": [
    {
     "name": "stdout",
     "output_type": "stream",
     "text": [
      "              precision    recall  f1-score   support\n",
      "\n",
      "           0       0.50      0.55      0.52      1000\n",
      "           1       0.59      0.60      0.59      1000\n",
      "           2       0.27      0.22      0.24      1000\n",
      "           3       0.23      0.05      0.09      1000\n",
      "           4       0.37      0.43      0.39      1000\n",
      "           5       0.39      0.48      0.43      1000\n",
      "           6       0.39      0.62      0.48      1000\n",
      "           7       0.50      0.57      0.54      1000\n",
      "           8       0.59      0.55      0.57      1000\n",
      "           9       0.59      0.45      0.51      1000\n",
      "\n",
      "    accuracy                           0.45     10000\n",
      "   macro avg       0.44      0.45      0.44     10000\n",
      "weighted avg       0.44      0.45      0.44     10000\n",
      "\n"
     ]
    }
   ],
   "source": [
    "from sklearn.metrics import classification_report\n",
    "from sklearn import metrics\n",
    "print(classification_report(Y_true, Y_pred_classes))"
   ]
  },
  {
   "cell_type": "code",
   "execution_count": null,
   "id": "bbf49c73",
   "metadata": {},
   "outputs": [],
   "source": []
  }
 ],
 "metadata": {
  "kernelspec": {
   "display_name": "Python 3 (ipykernel)",
   "language": "python",
   "name": "python3"
  },
  "language_info": {
   "codemirror_mode": {
    "name": "ipython",
    "version": 3
   },
   "file_extension": ".py",
   "mimetype": "text/x-python",
   "name": "python",
   "nbconvert_exporter": "python",
   "pygments_lexer": "ipython3",
   "version": "3.9.7"
  }
 },
 "nbformat": 4,
 "nbformat_minor": 5
}
